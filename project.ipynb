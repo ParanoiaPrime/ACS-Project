{
  "nbformat": 4,
  "nbformat_minor": 0,
  "metadata": {
    "colab": {
      "name": "Untitled4.ipynb",
      "provenance": [],
      "collapsed_sections": []
    },
    "kernelspec": {
      "name": "python3",
      "display_name": "Python 3"
    }
  },
  "cells": [
    {
      "cell_type": "markdown",
      "metadata": {
        "id": "X-uzXUaxLCaE"
      },
      "source": [
        "# Import"
      ]
    },
    {
      "cell_type": "code",
      "metadata": {
        "id": "gKOm-O3ZKMSD"
      },
      "source": [
        "from __future__ import division\n",
        "import numpy as np\n",
        "from sklearn.svm import SVR\n",
        "from sklearn.model_selection import GridSearchCV\n",
        "import torch.nn as nn\n",
        "import torch\n",
        "import matplotlib.pyplot as plt\n",
        "from mpl_toolkits.mplot3d import Axes3D \n",
        "import random"
      ],
      "execution_count": null,
      "outputs": []
    },
    {
      "cell_type": "markdown",
      "metadata": {
        "id": "uqK5wgysLG4n"
      },
      "source": [
        "# Initialize a NN"
      ]
    },
    {
      "cell_type": "code",
      "metadata": {
        "id": "XTcKSkZyLJzG"
      },
      "source": [
        "class Model(nn.Module):\n",
        "\n",
        "  def __init__(self):\n",
        "    super(Model,self).__init__()\n",
        "    self.conv = nn.Sequential(nn.Conv2d(1,3,2),\n",
        "                              nn.ReLU(),\n",
        "                              nn.Conv2d(3,3,2),\n",
        "                              nn.ReLU())\n",
        "\n",
        "  def forward(self,x):\n",
        "    return self.conv(x)\n",
        "\n",
        "M = Model()\n",
        "A_0 = torch.tensor([[-1,-1,-1.],[-2.5,-2.5,-2.5]])\n",
        "B_0 = torch.tensor([[1.],[1.]])\n",
        "\n",
        "def ReLU(x):\n",
        "  x[x<0] = 0\n",
        "  return x\n",
        "\n",
        "A_1 = torch.tensor([[3,3.]])\n",
        "B_1 = torch.tensor([[1.]])\n",
        "\n",
        "def Forward(x,M):\n",
        "  x = M(x).squeeze().view([1,-1])\n",
        "  #print(x)\n",
        "  x = ReLU(x.mm(A_0.T)+B_0.T)\n",
        "  x = x.mm(A_1.T)+B_1.T\n",
        "  return x\n",
        "\n",
        "def Hidden_layer(x,M):\n",
        "  x = M(x).squeeze().view([1,-1])\n",
        "  #print(x)\n",
        "  x = ReLU(x.mm(A_0.T)+B_0.T)\n",
        "  return x"
      ],
      "execution_count": null,
      "outputs": []
    },
    {
      "cell_type": "markdown",
      "metadata": {
        "id": "FqYVOs8qLTTR"
      },
      "source": [
        "# Find critical points in one direction"
      ]
    },
    {
      "cell_type": "markdown",
      "metadata": {
        "id": "PWxRea-5N2lu"
      },
      "source": [
        "## Find candidate points and sort"
      ]
    },
    {
      "cell_type": "code",
      "metadata": {
        "id": "sQGPCsWuLbxv"
      },
      "source": [
        "def sort_cp(M,collection,direction,show=False):\n",
        "  u = M(torch.tensor(collection[0]).view([1,1,3,3])).squeeze()\n",
        "  v = M(torch.tensor(collection[1]).view([1,1,3,3])).squeeze()-u\n",
        "  tmp = [[collection[0],0],[collection[1],1]]\n",
        "  for each in collection[2:]:\n",
        "    each_m = M(torch.tensor(each).view([1,1,3,3])).squeeze()\n",
        "    tmp.append([each,((each_m-u)/v)[direction].item()])\n",
        "  tmp = np.array(tmp)\n",
        "  collection_sorted = (tmp[tmp[:,1].argsort()])[:,0]\n",
        "  collection_sorted = torch.tensor([each.squeeze() for each in collection_sorted]).view([-1,1,3,3])\n",
        "  collection_ob = M(collection_sorted).squeeze().detach()\n",
        "  if show:\n",
        "    fig = plt.figure()\n",
        "    ax = Axes3D(fig)\n",
        "    ax.scatter(collection_ob[:,0], collection_ob[:,1], collection_ob[:,2])\n",
        "  return collection_sorted,collection_ob\n",
        "\n",
        "def find_cp(M,direction,show=False):\n",
        "  direction = np.array(direction)\n",
        "  collection = []\n",
        "  for _ in range(10000):\n",
        "    x = torch.randn(9)*10\n",
        "    x = x.view([1,1,3,3])\n",
        "    tmp = M(x).detach().squeeze().numpy()\n",
        "    if tmp[np.where(direction==0)[0][0]]==0 and tmp[np.where(direction==0)[0][1]]==0 and tmp[np.where(direction!=0)[0][0]]!=0:\n",
        "      collection.append(x.numpy())\n",
        "  collection = np.array(collection)\n",
        "  collection,collection_ob = sort_cp(M,collection,np.where(direction!=0)[0][0],show)\n",
        "  return collection,collection_ob\n",
        "\n",
        "collection,collection_ob = find_cp(M,[1,0,0],True)"
      ],
      "execution_count": null,
      "outputs": []
    },
    {
      "cell_type": "markdown",
      "metadata": {
        "id": "T-TY6nTnOc40"
      },
      "source": [
        "## Draw the curve of gradient and smooth"
      ]
    },
    {
      "cell_type": "code",
      "metadata": {
        "id": "ctvebC6JOn3t"
      },
      "source": [
        "def get_gradient_blackbox(collection,collection_ob,I):\n",
        "  delta = np.linalg.norm(collection_ob[I+1]-collection_ob[I])\n",
        "  y_right = Forward(collection[I+1].clone().view([-1,1,3,3]),M)\n",
        "  y_left = Forward(collection[I].clone().view([-1,1,3,3]),M)\n",
        "  return ((y_right-y_left)/delta).item()\n",
        "\n",
        "def get_gradient_linspace(collection,collection_ob,show=False):\n",
        "  gradient = []\n",
        "  for i in range(1,len(collection)-1):\n",
        "    gradient.append(get_gradient_blackbox(collection,collection_ob,i))\n",
        "  if show:\n",
        "    plt.plot(gradient)\n",
        "  for i in range(len(gradient)-2):\n",
        "    if abs(gradient[i+1]-gradient[i])>0.1 and abs(gradient[i+2]-gradient[i+1])>0.1:\n",
        "      gradient[i+1] = gradient[i]\n",
        "  if show:\n",
        "    plt.plot(gradient)\n",
        "  return gradient\n",
        "\n",
        "gradient = get_gradient_linspace(collection,collection_ob,True)"
      ],
      "execution_count": null,
      "outputs": []
    },
    {
      "cell_type": "markdown",
      "metadata": {
        "id": "nhnHTthQS8Xd"
      },
      "source": [
        "## Find critical points"
      ]
    },
    {
      "cell_type": "code",
      "metadata": {
        "id": "wtIGx5XsTGyv"
      },
      "source": [
        "def get_singular_point_index(g):\n",
        "  gradient_singularity_idx = []\n",
        "  for i in range(1,len(g)-1):\n",
        "      if abs(g[i-1]-g[i])>0.5 or abs(g[i]-g[i+1])>0.5:\n",
        "        gradient_singularity_idx.append(i)\n",
        "  return gradient_singularity_idx\n",
        "\n",
        "def get_critical_point(g,show=False):\n",
        "  critical_point = {}\n",
        "  gradient_singularity_idx = get_singular_point_index(g)\n",
        "  res = []\n",
        "  tmp = []\n",
        "  jmp = True\n",
        "  for each in gradient_singularity_idx:\n",
        "    if jmp:\n",
        "      tmp.append(each)\n",
        "      jmp = False\n",
        "      continue\n",
        "    if each-tmp[-1] == 1:\n",
        "      tmp.append(each)\n",
        "    else:\n",
        "      res.append(tmp)\n",
        "      critical_point[tmp[round(len(tmp)/2)]] = [tmp[0],tmp[-1]]\n",
        "      tmp = [each]\n",
        "  if tmp:\n",
        "    res.append(tmp)\n",
        "    critical_point[tmp[round(len(tmp)/2)]] = [tmp[0],tmp[-1]]\n",
        "  if show:\n",
        "    print(critical_point)\n",
        "    plt.plot(g)\n",
        "    plt.plot(list(critical_point.keys()),[g[list(critical_point.keys())[0]],g[list(critical_point.keys())[1]]],'o')\n",
        "    print(collection_ob[list(critical_point.keys())[0]])\n",
        "    print(collection_ob[list(critical_point.keys())[1]])\n",
        "  return critical_point\n",
        "\n",
        "critical_point = get_critical_point(gradient,True)"
      ],
      "execution_count": null,
      "outputs": []
    },
    {
      "cell_type": "markdown",
      "metadata": {
        "id": "ZpdnQ1QaUFvv"
      },
      "source": [
        "# Recover A_0 in one direction"
      ]
    },
    {
      "cell_type": "code",
      "metadata": {
        "id": "JPxfcMNhR-fG"
      },
      "source": [
        "def gradient_delta(critical_point,collection,collection_ob):\n",
        "  res = []\n",
        "  for each in critical_point:\n",
        "    left_cp = each-2\n",
        "    right_cp = each+2\n",
        "    left_gradient = get_gradient_blackbox(collection,collection_ob,left_cp)\n",
        "    right_gradient = get_gradient_blackbox(collection,collection_ob,right_cp)\n",
        "    res.append(right_gradient-left_gradient)\n",
        "  return res\n",
        "\n",
        "gd = []\n",
        "gd.append(gradient_delta(critical_point,collection,collection_ob))\n",
        "print(gd)"
      ],
      "execution_count": null,
      "outputs": []
    },
    {
      "cell_type": "markdown",
      "metadata": {
        "id": "O3qsls8UZpc7"
      },
      "source": [
        "# Recover A_0 in all diretions"
      ]
    },
    {
      "cell_type": "code",
      "metadata": {
        "id": "QYnqWgYYZo_g"
      },
      "source": [
        "gd = []\n",
        "for each in [[1,0,0],[0,1,0],[0,0,1]]:\n",
        "  collection,collection_ob = find_cp(M,each)\n",
        "  gradient = get_gradient_linspace(collection,collection_ob)\n",
        "  critical_point = get_critical_point(gradient)\n",
        "  gd.append(gradient_delta(critical_point,collection,collection_ob))\n",
        "gd = np.array(gd)"
      ],
      "execution_count": null,
      "outputs": []
    },
    {
      "cell_type": "code",
      "metadata": {
        "id": "K4In0vSHPj-S"
      },
      "source": [
        "A_0_recovered = -torch.ones([2,3])\n",
        "A_0_recovered[1,0] = -2.5\n",
        "for i,each in enumerate(gd.T):\n",
        "  base = each[0]\n",
        "  A_0_recovered[i,1] = each[1]/each[0]*A_0_recovered[i,0]\n",
        "  A_0_recovered[i,2] = each[2]/each[0]*A_0_recovered[i,0]\n",
        "print(A_0_recovered)\n",
        "print(A_0)"
      ],
      "execution_count": null,
      "outputs": []
    },
    {
      "cell_type": "markdown",
      "metadata": {
        "id": "T3wXRZk6eVbo"
      },
      "source": [
        "# Recover B_0"
      ]
    },
    {
      "cell_type": "code",
      "metadata": {
        "id": "8tz6mznXeZle"
      },
      "source": [
        "B_0_recovered = torch.zeros([1,2])\n",
        "for i,each in enumerate(critical_point):\n",
        "  x = collection[each].clone().view([1,1,3,3])\n",
        "  x = M(x).squeeze().view([1,-1])\n",
        "  x = x.mm(A_0_recovered.T)\n",
        "  B_0_recovered[0,i] = -x[0,i]\n",
        "print(B_0_recovered.T)\n",
        "print(B_0)"
      ],
      "execution_count": null,
      "outputs": []
    },
    {
      "cell_type": "markdown",
      "metadata": {
        "id": "CIO6OUTZgKXr"
      },
      "source": [
        "# Recover A_1 & B_1"
      ]
    },
    {
      "cell_type": "code",
      "metadata": {
        "id": "boshlwIzk9VM"
      },
      "source": [
        "tmp = []\n",
        "for _ in range(300):\n",
        "  x = torch.randn(9)*10\n",
        "  x = x.view([1,1,3,3])\n",
        "  x_p = M(x).squeeze().view([1,-1])\n",
        "  x_p = ReLU(x_p.mm(A_0_recovered.T)+B_0_recovered).squeeze().detach().numpy()\n",
        "  if x_p[0]!=0 and x_p[1]!=0:\n",
        "    tmp.append(x)\n",
        "    if len(tmp)==3:\n",
        "      print('Stand by')\n",
        "      break"
      ],
      "execution_count": null,
      "outputs": []
    },
    {
      "cell_type": "code",
      "metadata": {
        "id": "GfnJYQTrgPsW"
      },
      "source": [
        "A = []\n",
        "B = []\n",
        "for i in range(3):\n",
        "  x = M(tmp[i]).squeeze().view([1,-1])\n",
        "  A.append(np.append(ReLU(x.mm(A_0_recovered.T)+B_0_recovered).squeeze().detach().numpy(),[1.]))\n",
        "  B.append(Forward(tmp[i],M).squeeze().detach().numpy())\n",
        "print(A)\n",
        "print(B)"
      ],
      "execution_count": null,
      "outputs": []
    },
    {
      "cell_type": "code",
      "metadata": {
        "id": "-Osr1kGaoekA"
      },
      "source": [
        "abs(A[0][0]*3+A[0][1]*3+1-B[0])"
      ],
      "execution_count": null,
      "outputs": []
    },
    {
      "cell_type": "code",
      "metadata": {
        "id": "_qUW0y3NqS90"
      },
      "source": [
        "abs(A[1][0]*3+A[1][1]*3+1-B[1])"
      ],
      "execution_count": null,
      "outputs": []
    },
    {
      "cell_type": "code",
      "metadata": {
        "id": "lI2GTM4GqYEK"
      },
      "source": [
        "abs(A[2][0]*3+A[2][1]*3+1-B[2])"
      ],
      "execution_count": null,
      "outputs": []
    }
  ]
}